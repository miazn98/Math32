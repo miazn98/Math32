{
 "cells": [
  {
   "cell_type": "code",
   "execution_count": 1,
   "metadata": {},
   "outputs": [],
   "source": [
    "from pylab import imshow, show, get_cmap\n",
    "from numpy import random\n",
    "import cv2 as cv\n",
    "import numpy as np\n",
    "import pandas as pd\n",
    "import numpy as np\n",
    "from PIL import Image\n",
    "import xarray as xr\n"
   ]
  },
  {
   "cell_type": "code",
   "execution_count": null,
   "metadata": {},
   "outputs": [],
   "source": [
    "# To store this dataframe, you would run the euler number equation on the binary array, \n",
    "# but in another column, you need to save the original random array (this is the key to \n",
    "# the representative image, in case we want to later refer to it)"
   ]
  },
  {
   "cell_type": "markdown",
   "metadata": {},
   "source": [
    "## Generate Dataset"
   ]
  },
  {
   "cell_type": "code",
   "execution_count": 27,
   "metadata": {},
   "outputs": [],
   "source": [
    "#tester = np.array(test_4[0])\n",
    "#imgtester = Image.fromarray(tester, '1')\n",
    "#imgtester.show()"
   ]
  },
  {
   "cell_type": "code",
   "execution_count": 23,
   "metadata": {},
   "outputs": [
    {
     "data": {
      "text/html": [
       "<pre>&lt;xarray.DataArray (DataArray: 11, dim_0: 10, dim_1: 10)&gt;\n",
       "array([[[0.14574452, 0.87106475, 0.48026268, ..., 0.44751813,\n",
       "         0.66877921, 0.53629259],\n",
       "        [0.56726909, 0.12046406, 0.26169564, ..., 0.62433695,\n",
       "         0.94751863, 0.58301779],\n",
       "        [0.45488129, 0.74870911, 0.29650507, ..., 0.28392515,\n",
       "         0.44946638, 0.49583326],\n",
       "        ...,\n",
       "        [0.56784862, 0.32392231, 0.9895885 , ..., 0.03134792,\n",
       "         0.11881557, 0.25512466],\n",
       "        [0.32317893, 0.90297385, 0.02052866, ..., 0.07739247,\n",
       "         0.53673779, 0.25975475],\n",
       "        [0.78636703, 0.47651282, 0.40335647, ..., 0.4477141 ,\n",
       "         0.06466083, 0.22300293]],\n",
       "\n",
       "       [[0.27063581, 0.83327646, 0.04210772, ..., 0.17200693,\n",
       "         0.69682312, 0.41197937],\n",
       "        [0.12282623, 0.87736663, 0.06989759, ..., 0.08678119,\n",
       "         0.81608933, 0.30832444],\n",
       "        [0.45632951, 0.7190223 , 0.15935594, ..., 0.39775411,\n",
       "         0.43614768, 0.95293972],\n",
       "        ...,\n",
       "        [0.52383261, 0.91529368, 0.07530237, ..., 0.35526983,\n",
       "         0.35889009, 0.83211633],\n",
       "        [0.03327761, 0.80376958, 0.77887741, ..., 0.40595519,\n",
       "         0.20080333, 0.58541778],\n",
       "        [0.09283058, 0.82193617, 0.45288217, ..., 0.21195423,\n",
       "         0.44777001, 0.814418  ]],\n",
       "\n",
       "       [[0.28357937, 0.2228612 , 0.71030287, ..., 0.27060712,\n",
       "         0.56907299, 0.18546867],\n",
       "        [0.71640751, 0.3838827 , 0.93768817, ..., 0.50685009,\n",
       "         0.53267138, 0.736246  ],\n",
       "        [0.79399686, 0.09608179, 0.57901536, ..., 0.44316665,\n",
       "         0.09340632, 0.76091745],\n",
       "        ...,\n",
       "        [0.2011831 , 0.52081743, 0.55478024, ..., 0.23929468,\n",
       "         0.32854472, 0.0880963 ],\n",
       "        [0.64938451, 0.28531684, 0.40583873, ..., 0.58323297,\n",
       "         0.89708339, 0.30886629],\n",
       "        [0.21386592, 0.94812588, 0.78940979, ..., 0.83167363,\n",
       "         0.20600992, 0.28233976]],\n",
       "\n",
       "       ...,\n",
       "\n",
       "       [[0.42160064, 0.10833923, 0.32531012, ..., 0.30600504,\n",
       "         0.08463855, 0.83349494],\n",
       "        [0.48336847, 0.89328743, 0.50271853, ..., 0.90844046,\n",
       "         0.48771417, 0.97874889],\n",
       "        [0.12850895, 0.39060122, 0.08594272, ..., 0.04176781,\n",
       "         0.24645758, 0.7203131 ],\n",
       "        ...,\n",
       "        [0.17962875, 0.15957334, 0.18337226, ..., 0.57250585,\n",
       "         0.77919332, 0.52827881],\n",
       "        [0.50140583, 0.07916339, 0.53410321, ..., 0.65271501,\n",
       "         0.19430162, 0.39297164],\n",
       "        [0.83223612, 0.92661125, 0.90718812, ..., 0.38483585,\n",
       "         0.11481968, 0.07896959]],\n",
       "\n",
       "       [[0.72632719, 0.12814614, 0.96084772, ..., 0.94161543,\n",
       "         0.87917188, 0.06065463],\n",
       "        [0.8870092 , 0.26595989, 0.27815153, ..., 0.86946064,\n",
       "         0.70055289, 0.26792223],\n",
       "        [0.66301441, 0.40403889, 0.79073362, ..., 0.30652053,\n",
       "         0.1615226 , 0.7433131 ],\n",
       "        ...,\n",
       "        [0.13051976, 0.32561101, 0.82245624, ..., 0.15809981,\n",
       "         0.37482827, 0.02504869],\n",
       "        [0.1906504 , 0.51297154, 0.59640655, ..., 0.36790235,\n",
       "         0.02444017, 0.89030576],\n",
       "        [0.06280322, 0.84570089, 0.2832147 , ..., 0.41275799,\n",
       "         0.54067214, 0.57934462]],\n",
       "\n",
       "       [[0.11525582, 0.92784137, 0.06166144, ..., 0.1917508 ,\n",
       "         0.14764711, 0.30003401],\n",
       "        [0.9431874 , 0.12607191, 0.68244377, ..., 0.28327744,\n",
       "         0.66433584, 0.48930541],\n",
       "        [0.88581303, 0.7658958 , 0.05547806, ..., 0.32856296,\n",
       "         0.24682331, 0.7359753 ],\n",
       "        ...,\n",
       "        [0.84782983, 0.10553957, 0.37146632, ..., 0.34800736,\n",
       "         0.1289402 , 0.21673056],\n",
       "        [0.75503841, 0.49514458, 0.01125587, ..., 0.67392993,\n",
       "         0.96764093, 0.55499076],\n",
       "        [0.00267511, 0.55077548, 0.04078383, ..., 0.22599303,\n",
       "         0.59363948, 0.53705459]]])\n",
       "Dimensions without coordinates: DataArray, dim_0, dim_1</pre>"
      ],
      "text/plain": [
       "<xarray.DataArray (DataArray: 11, dim_0: 10, dim_1: 10)>\n",
       "array([[[0.14574452, 0.87106475, 0.48026268, ..., 0.44751813,\n",
       "         0.66877921, 0.53629259],\n",
       "        [0.56726909, 0.12046406, 0.26169564, ..., 0.62433695,\n",
       "         0.94751863, 0.58301779],\n",
       "        [0.45488129, 0.74870911, 0.29650507, ..., 0.28392515,\n",
       "         0.44946638, 0.49583326],\n",
       "        ...,\n",
       "        [0.56784862, 0.32392231, 0.9895885 , ..., 0.03134792,\n",
       "         0.11881557, 0.25512466],\n",
       "        [0.32317893, 0.90297385, 0.02052866, ..., 0.07739247,\n",
       "         0.53673779, 0.25975475],\n",
       "        [0.78636703, 0.47651282, 0.40335647, ..., 0.4477141 ,\n",
       "         0.06466083, 0.22300293]],\n",
       "\n",
       "       [[0.27063581, 0.83327646, 0.04210772, ..., 0.17200693,\n",
       "         0.69682312, 0.41197937],\n",
       "        [0.12282623, 0.87736663, 0.06989759, ..., 0.08678119,\n",
       "         0.81608933, 0.30832444],\n",
       "        [0.45632951, 0.7190223 , 0.15935594, ..., 0.39775411,\n",
       "         0.43614768, 0.95293972],\n",
       "        ...,\n",
       "        [0.52383261, 0.91529368, 0.07530237, ..., 0.35526983,\n",
       "         0.35889009, 0.83211633],\n",
       "        [0.03327761, 0.80376958, 0.77887741, ..., 0.40595519,\n",
       "         0.20080333, 0.58541778],\n",
       "        [0.09283058, 0.82193617, 0.45288217, ..., 0.21195423,\n",
       "         0.44777001, 0.814418  ]],\n",
       "\n",
       "       [[0.28357937, 0.2228612 , 0.71030287, ..., 0.27060712,\n",
       "         0.56907299, 0.18546867],\n",
       "        [0.71640751, 0.3838827 , 0.93768817, ..., 0.50685009,\n",
       "         0.53267138, 0.736246  ],\n",
       "        [0.79399686, 0.09608179, 0.57901536, ..., 0.44316665,\n",
       "         0.09340632, 0.76091745],\n",
       "        ...,\n",
       "        [0.2011831 , 0.52081743, 0.55478024, ..., 0.23929468,\n",
       "         0.32854472, 0.0880963 ],\n",
       "        [0.64938451, 0.28531684, 0.40583873, ..., 0.58323297,\n",
       "         0.89708339, 0.30886629],\n",
       "        [0.21386592, 0.94812588, 0.78940979, ..., 0.83167363,\n",
       "         0.20600992, 0.28233976]],\n",
       "\n",
       "       ...,\n",
       "\n",
       "       [[0.42160064, 0.10833923, 0.32531012, ..., 0.30600504,\n",
       "         0.08463855, 0.83349494],\n",
       "        [0.48336847, 0.89328743, 0.50271853, ..., 0.90844046,\n",
       "         0.48771417, 0.97874889],\n",
       "        [0.12850895, 0.39060122, 0.08594272, ..., 0.04176781,\n",
       "         0.24645758, 0.7203131 ],\n",
       "        ...,\n",
       "        [0.17962875, 0.15957334, 0.18337226, ..., 0.57250585,\n",
       "         0.77919332, 0.52827881],\n",
       "        [0.50140583, 0.07916339, 0.53410321, ..., 0.65271501,\n",
       "         0.19430162, 0.39297164],\n",
       "        [0.83223612, 0.92661125, 0.90718812, ..., 0.38483585,\n",
       "         0.11481968, 0.07896959]],\n",
       "\n",
       "       [[0.72632719, 0.12814614, 0.96084772, ..., 0.94161543,\n",
       "         0.87917188, 0.06065463],\n",
       "        [0.8870092 , 0.26595989, 0.27815153, ..., 0.86946064,\n",
       "         0.70055289, 0.26792223],\n",
       "        [0.66301441, 0.40403889, 0.79073362, ..., 0.30652053,\n",
       "         0.1615226 , 0.7433131 ],\n",
       "        ...,\n",
       "        [0.13051976, 0.32561101, 0.82245624, ..., 0.15809981,\n",
       "         0.37482827, 0.02504869],\n",
       "        [0.1906504 , 0.51297154, 0.59640655, ..., 0.36790235,\n",
       "         0.02444017, 0.89030576],\n",
       "        [0.06280322, 0.84570089, 0.2832147 , ..., 0.41275799,\n",
       "         0.54067214, 0.57934462]],\n",
       "\n",
       "       [[0.11525582, 0.92784137, 0.06166144, ..., 0.1917508 ,\n",
       "         0.14764711, 0.30003401],\n",
       "        [0.9431874 , 0.12607191, 0.68244377, ..., 0.28327744,\n",
       "         0.66433584, 0.48930541],\n",
       "        [0.88581303, 0.7658958 , 0.05547806, ..., 0.32856296,\n",
       "         0.24682331, 0.7359753 ],\n",
       "        ...,\n",
       "        [0.84782983, 0.10553957, 0.37146632, ..., 0.34800736,\n",
       "         0.1289402 , 0.21673056],\n",
       "        [0.75503841, 0.49514458, 0.01125587, ..., 0.67392993,\n",
       "         0.96764093, 0.55499076],\n",
       "        [0.00267511, 0.55077548, 0.04078383, ..., 0.22599303,\n",
       "         0.59363948, 0.53705459]]])\n",
       "Dimensions without coordinates: DataArray, dim_0, dim_1"
      ]
     },
     "execution_count": 23,
     "metadata": {},
     "output_type": "execute_result"
    }
   ],
   "source": [
    "# Lets generate 5,000 random 4 by 4s\n",
    "\n",
    "# rand_array is the key to convert to a black and white image object\n",
    "# Binary array is the key to figure out euler number\n",
    "\n",
    "\n",
    "\n",
    "# This creates test_4, which is the nonbinary random array\n",
    "i = 0\n",
    "\n",
    "test_list = []\n",
    "while i <= 10:\n",
    "    Z = random.random((10,10))\n",
    "    Y = xr.DataArray(Z)\n",
    "\n",
    "    test_list.append(Y)\n",
    "    i += 1\n",
    "test_4 = xr.concat(test_list, dim = \"DataArray\")\n",
    "test_4\n",
    "    \n"
   ]
  },
  {
   "cell_type": "code",
   "execution_count": 35,
   "metadata": {},
   "outputs": [
    {
     "data": {
      "text/html": [
       "<pre>&lt;xarray.DataArray (dim_0: 10, dim_1: 10)&gt;\n",
       "array([[0, 0, 0, 0, 0, 0, 0, 0, 0, 0],\n",
       "       [0, 1, 0, 0, 1, 0, 1, 0, 1, 0],\n",
       "       [0, 1, 0, 0, 0, 0, 0, 1, 1, 0],\n",
       "       [0, 1, 0, 0, 0, 0, 1, 0, 0, 0],\n",
       "       [0, 1, 1, 1, 0, 0, 0, 0, 0, 0],\n",
       "       [0, 1, 1, 0, 0, 1, 0, 0, 0, 0],\n",
       "       [0, 1, 0, 0, 0, 0, 1, 1, 1, 0],\n",
       "       [0, 1, 1, 0, 1, 0, 1, 1, 0, 0],\n",
       "       [0, 1, 1, 1, 1, 1, 0, 0, 0, 0],\n",
       "       [0, 0, 0, 0, 0, 0, 0, 0, 0, 0]])\n",
       "Dimensions without coordinates: dim_0, dim_1</pre>"
      ],
      "text/plain": [
       "<xarray.DataArray (dim_0: 10, dim_1: 10)>\n",
       "array([[0, 0, 0, 0, 0, 0, 0, 0, 0, 0],\n",
       "       [0, 1, 0, 0, 1, 0, 1, 0, 1, 0],\n",
       "       [0, 1, 0, 0, 0, 0, 0, 1, 1, 0],\n",
       "       [0, 1, 0, 0, 0, 0, 1, 0, 0, 0],\n",
       "       [0, 1, 1, 1, 0, 0, 0, 0, 0, 0],\n",
       "       [0, 1, 1, 0, 0, 1, 0, 0, 0, 0],\n",
       "       [0, 1, 0, 0, 0, 0, 1, 1, 1, 0],\n",
       "       [0, 1, 1, 0, 1, 0, 1, 1, 0, 0],\n",
       "       [0, 1, 1, 1, 1, 1, 0, 0, 0, 0],\n",
       "       [0, 0, 0, 0, 0, 0, 0, 0, 0, 0]])\n",
       "Dimensions without coordinates: dim_0, dim_1"
      ]
     },
     "execution_count": 35,
     "metadata": {},
     "output_type": "execute_result"
    }
   ],
   "source": [
    "# This creates a dataarray object of binary arrays\n",
    "\n",
    "bin_list = []\n",
    "for i in range (0, 11):\n",
    "    bin_pre_arr = np.array(test_4[i])\n",
    "    img = Image.fromarray(bin_pre_arr, '1')\n",
    "    #img.show()\n",
    "    bin_arr = np.array(img)\n",
    "    bin_arr = bin_arr.astype(np.int)\n",
    "    bin_arr_xr = xr.DataArray(bin_arr)\n",
    "    bin_list.append(bin_arr_xr)\n",
    "    \n",
    "test_4_bin = xr.concat(bin_list, dim = \"DataArray\")\n",
    "\n",
    "# now we need to add the enclosure\n",
    "test_4_bin\n",
    "\n",
    "    \n",
    "    \n",
    "test_4_bin_list = []\n",
    "for i in range(0, 11):\n",
    "    final_bin = np.array(test_4_bin[i])\n",
    "\n",
    "    for i in range(0, (np.size(final_bin, 1))):\n",
    "        final_bin[0, i] = 0\n",
    "        final_bin[- 1, i] = 0\n",
    "        final_bin[i, 0] = 0\n",
    "        final_bin[i, -1] = 0\n",
    "        final_bin_xr = final_bin.astype(np.int)\n",
    "        final_bin_xr = xr.DataArray(final_bin_xr)\n",
    "    test_4_bin_list.append(final_bin_xr)\n",
    "\n",
    "test_4_bin_final = xr.concat(test_4_bin_list, dim = \"DataArray\")\n",
    "\n",
    "test_4_bin_final[0]\n"
   ]
  },
  {
   "cell_type": "code",
   "execution_count": 38,
   "metadata": {},
   "outputs": [
    {
     "data": {
      "image/png": "[encoded data removed]",
      "text/plain": [
       "<Figure size 432x288 with 1 Axes>"
      ]
     },
     "metadata": {
      "needs_background": "light"
     },
     "output_type": "display_data"
    }
   ],
   "source": []
  },
  {
   "cell_type": "code",
   "execution_count": 4,
   "metadata": {},
   "outputs": [],
   "source": [
    "import operator"
   ]
  },
  {
   "cell_type": "code",
   "execution_count": 49,
   "metadata": {},
   "outputs": [
    {
     "name": "stdout",
     "output_type": "stream",
     "text": [
      "count of connected 0's: [1, 3, 3, 5, 7, 3, 1, 2, 3, 3, 2]\n",
      "count of connected 1's: [7, 5, 10, 6, 11, 5, 6, 6, 7, 6, 6]\n",
      "Euler Characteristic: [-6, -2, -7, -1, -4, -2, -5, -4, -4, -3, -4]\n"
     ]
    }
   ],
   "source": [
    "from skimage.measure import label\n",
    "\n",
    "zero_counter_list = []\n",
    "one_counter_list = []\n",
    "for i in range(0, 11):\n",
    "\n",
    "    img_arr = np.array(test_4_bin_final[i])\n",
    "    one_labels = label(img_arr, connectivity=1, background=-1)  # conn=1 -> 4 neighbors\n",
    "    one_label_vals = np.unique(one_labels)                      # conn=2 -> 8 neighbors\n",
    "\n",
    "    one_counter = 0\n",
    "    for i in one_label_vals:\n",
    "        one_indices = np.where(one_labels == i)\n",
    "        if one_indices:\n",
    "            if img_arr[one_indices][0] == 0:\n",
    "            \n",
    "                one_counter += 1\n",
    "    one_counter_list.append(one_counter)\n",
    "    \n",
    "    img_arr_inv = img_arr\n",
    "    for i in range(0, (np.size(img_arr, 1))):\n",
    "        for j in range(0, (np.size(img_arr, 1))):\n",
    "            if img_arr_inv[i][j] == 0:\n",
    "                img_arr_inv[i][j] = 1\n",
    "            elif img_arr_inv[i][j] == 1:\n",
    "                img_arr_inv[i][j] = 0\n",
    "                \n",
    "    # now run the same counter on the inverse matrix (to get number of connected black regions)\n",
    "    zero_labels = label(img_arr_inv, connectivity=1, background=-1)  # conn=1 -> 4 neighbors\n",
    "    zero_label_vals = np.unique(zero_labels)                      # conn=2 -> 8 neighbors\n",
    "\n",
    "    zero_counter = 0\n",
    "    for i in zero_label_vals:\n",
    "        zero_indices = np.where(zero_labels == i)\n",
    "        if zero_indices:\n",
    "            if img_arr_inv[zero_indices][0] == 0:\n",
    "            #print('hole: ', indices)\n",
    "                zero_counter += 1\n",
    "    \n",
    "    zero_counter_list.append(zero_counter)\n",
    "    \n",
    "counter_list = list(map(operator.sub, one_counter_list, zero_counter_list))\n",
    "    \n",
    "    \n",
    "print(\"count of connected 0's: \" + str(one_counter_list))\n",
    "print(\"count of connected 1's: \" + str(zero_counter_list))\n",
    "print(\"Euler Characteristic: \" + str(counter_list))"
   ]
  },
  {
   "cell_type": "code",
   "execution_count": 51,
   "metadata": {},
   "outputs": [
    {
     "data": {
      "image/png": "[encoded data removed]",
      "text/plain": [
       "<Figure size 432x288 with 1 Axes>"
      ]
     },
     "metadata": {
      "needs_background": "light"
     },
     "output_type": "display_data"
    }
   ],
   "source": [
    "import matplotlib.pyplot as plt\n",
    "\n",
    "plt.imshow(test_4_bin_final[10], cmap='Greys',  interpolation='nearest')\n",
    "plt.show()"
   ]
  },
  {
   "cell_type": "code",
   "execution_count": 12,
   "metadata": {},
   "outputs": [
    {
     "data": {
      "text/plain": [
       "array([[1, 1, 1, 1, 1, 1, 0, 1, 0, 0],\n",
       "       [1, 1, 1, 0, 1, 1, 1, 0, 0, 1],\n",
       "       [1, 0, 1, 0, 0, 0, 0, 0, 1, 0],\n",
       "       [1, 1, 1, 0, 0, 0, 0, 0, 0, 0],\n",
       "       [1, 1, 0, 1, 0, 0, 1, 0, 1, 0],\n",
       "       [1, 0, 0, 1, 0, 1, 0, 1, 0, 1],\n",
       "       [0, 0, 1, 0, 1, 0, 1, 1, 1, 0],\n",
       "       [1, 1, 0, 1, 0, 0, 1, 1, 0, 0],\n",
       "       [0, 1, 0, 0, 0, 1, 1, 0, 1, 0],\n",
       "       [0, 0, 1, 0, 1, 1, 1, 1, 1, 0]])"
      ]
     },
     "execution_count": 12,
     "metadata": {},
     "output_type": "execute_result"
    }
   ],
   "source": [
    "binaryimg"
   ]
  },
  {
   "cell_type": "code",
   "execution_count": 11,
   "metadata": {},
   "outputs": [
    {
     "data": {
      "image/png": "[encoded data removed]",
      "text/plain": [
       "<Figure size 432x288 with 1 Axes>"
      ]
     },
     "metadata": {
      "needs_background": "light"
     },
     "output_type": "display_data"
    }
   ],
   "source": [
    "import matplotlib.pyplot as plt\n",
    "\n",
    "plt.imshow(binaryimg, cmap='Greys',  interpolation='nearest')\n",
    "plt.show()"
   ]
  },
  {
   "cell_type": "code",
   "execution_count": 68,
   "metadata": {},
   "outputs": [],
   "source": [
    "# Show the image representation of one of the randomly generated arrays\n",
    "numpy_test = np.array(test_4[0])\n",
    "\n",
    "img = Image.fromarray(numpy_test, '1')\n",
    "img.show()"
   ]
  },
  {
   "cell_type": "code",
   "execution_count": 41,
   "metadata": {},
   "outputs": [
    {
     "data": {
      "text/plain": [
       "array([[0, 0, 1, 0, 1, 0, 0, 0, 1, 0],\n",
       "       [1, 0, 1, 0, 0, 0, 0, 0, 1, 0],\n",
       "       [1, 1, 0, 1, 0, 1, 1, 1, 0, 0],\n",
       "       [1, 1, 0, 0, 0, 0, 0, 0, 0, 0],\n",
       "       [1, 0, 0, 0, 1, 1, 1, 1, 1, 1],\n",
       "       [1, 1, 1, 1, 0, 1, 0, 0, 0, 0],\n",
       "       [0, 0, 1, 0, 1, 1, 0, 1, 1, 1],\n",
       "       [1, 1, 1, 0, 0, 0, 1, 1, 0, 0],\n",
       "       [0, 0, 0, 1, 1, 1, 1, 1, 0, 1],\n",
       "       [0, 1, 0, 0, 1, 1, 0, 0, 1, 0]])"
      ]
     },
     "execution_count": 41,
     "metadata": {},
     "output_type": "execute_result"
    }
   ],
   "source": [
    "numpy_test_bin = np.array(test_4_bin[0])\n",
    "numpy_test_bin"
   ]
  },
  {
   "cell_type": "code",
   "execution_count": 42,
   "metadata": {},
   "outputs": [],
   "source": [
    "for i in range(0, (np.size(numpy_test_bin, 1))):\n",
    "    for j in range(0, (np.size(img_arr, 1))):\n",
    "        if  numpy_test_bin[i][j] == 0:\n",
    "            numpy_test_bin[i][j] = 1\n",
    "\n",
    "        elif  numpy_test_bin[i][j] == 1:\n",
    "             numpy_test_bin[i][j] = 0"
   ]
  },
  {
   "cell_type": "code",
   "execution_count": 43,
   "metadata": {},
   "outputs": [
    {
     "data": {
      "text/plain": [
       "array([[1, 1, 0, 1, 0, 1, 1, 1, 0, 1],\n",
       "       [0, 1, 0, 1, 1, 1, 1, 1, 0, 1],\n",
       "       [0, 0, 1, 0, 1, 0, 0, 0, 1, 1],\n",
       "       [0, 0, 1, 1, 1, 1, 1, 1, 1, 1],\n",
       "       [0, 1, 1, 1, 0, 0, 0, 0, 0, 0],\n",
       "       [0, 0, 0, 0, 1, 0, 1, 1, 1, 1],\n",
       "       [1, 1, 0, 1, 0, 0, 1, 0, 0, 0],\n",
       "       [0, 0, 0, 1, 1, 1, 0, 0, 1, 1],\n",
       "       [1, 1, 1, 0, 0, 0, 0, 0, 1, 0],\n",
       "       [1, 0, 1, 1, 0, 0, 1, 1, 0, 1]])"
      ]
     },
     "execution_count": 43,
     "metadata": {},
     "output_type": "execute_result"
    }
   ],
   "source": [
    "numpy_test_bin"
   ]
  },
  {
   "cell_type": "code",
   "execution_count": 13,
   "metadata": {},
   "outputs": [
    {
     "data": {
      "text/plain": [
       "0.75"
      ]
     },
     "execution_count": 13,
     "metadata": {},
     "output_type": "execute_result"
    }
   ],
   "source": [
    "vert = 0\n",
    "edge = 0\n",
    "for i in range(1, (np.shape(image)[0]-1)):\n",
    "    for j in range(1,(np.shape(image)[0]-1)):\n",
    "        if image[i][j] == 1:\n",
    "            if image[i-1][j] == 0 and image[i][j-1] == 0 and image[i][j + 1] == 0 and image[i + 1][j] == 0:\n",
    "                edge += 4\n",
    "                vert += 4\n",
    "            elif image[i-1][j] == 0 and image[i][j-1] == 0 and image[i][j + 1] == 0 and image[i + 1][j] == 1:\n",
    "                edge += 3\n",
    "                vert += 2\n",
    "            elif image[i-1][j] == 0 and image[i][j-1] == 0 and image[i][j + 1] == 1 and image[i + 1][j] == 1:\n",
    "                edge += 2\n",
    "                vert += 1\n",
    "            elif image[i-1][j] == 0 and image[i][j-1] == 1 and image[i][j + 1] == 1 and image[i + 1][j] == 1:\n",
    "                edge += 1\n",
    "                \n",
    "                \n",
    "            \n",
    "            \n",
    "            \n",
    "            \n",
    "            if image[i][j + 1] == 1 and image[i-1][j+1] == 0 and image[i + 1][j + 1] == 0:\n",
    "                edge += 3\n",
    "                vert += 2\n",
    "            elif image[i][j + 1] == 1 and image[i-1][j+1] == 1 and image[i + 1][j + 1] == 0:\n",
    "                edge\n",
    "                # condition to add vertices and edges\n",
    "                \n",
    "            \n",
    "                \n",
    "            \n",
    "            if image[i][j-1] != 0 and image[i-1][j] != 0:\n",
    "                p3 +=1\n",
    "            if image[i-1][j] != 0 and image[i][j+1] != 0:\n",
    "                p3 +=1\n",
    "            if image[i][j+1] != 0 and image[i+1][j] != 0:\n",
    "                p3 +=1\n",
    "            if image[i+1][j] != 0 and image[i][j-1] != 0:\n",
    "                p3 +=\n",
    "            \n",
    "        elif image[i][j] == 1:\n",
    "            if image[i][j-1] != 1 and image[i-1][j] != 1:\n",
    "                    p1 +=1\n",
    "            if image[i-1][j] != 1 and image[i][j+1] != 1:\n",
    "                    p1 +=1\n",
    "            if image[i][j+1] != 1 and image[i+1][j] != 1:\n",
    "                    p1 +=1\n",
    "            if image[i+1][j] != 1 and image[i][j-1] != 1:\n",
    "                    p1 +=1\n",
    "# print(p1, p3)\n",
    "euler = (p1 - p3)/4\n",
    "euler"
   ]
  },
  {
   "cell_type": "code",
   "execution_count": null,
   "metadata": {},
   "outputs": [],
   "source": [
    "for i in range(0,5):\n",
    "    if i"
   ]
  }
 ],
 "metadata": {
  "kernelspec": {
   "display_name": "Python 3",
   "language": "python",
   "name": "python3"
  },
  "language_info": {
   "codemirror_mode": {
    "name": "ipython",
    "version": 3
   },
   "file_extension": ".py",
   "mimetype": "text/x-python",
   "name": "python",
   "nbconvert_exporter": "python",
   "pygments_lexer": "ipython3",
   "version": "3.7.4"
  }
 },
 "nbformat": 4,
 "nbformat_minor": 2
}
